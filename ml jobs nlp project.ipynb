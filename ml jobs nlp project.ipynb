{
 "cells": [
  {
   "cell_type": "code",
   "execution_count": 6,
   "id": "ddc3af52-53d6-4852-989e-5a19cc198ea0",
   "metadata": {},
   "outputs": [],
   "source": [
    "import pandas as pd"
   ]
  },
  {
   "cell_type": "code",
   "execution_count": 7,
   "id": "f0c1afd4-b8eb-43e0-86da-6e739db63ac8",
   "metadata": {},
   "outputs": [],
   "source": [
    "df = pd.read_csv('1000_ml_jobs_us.csv')"
   ]
  },
  {
   "cell_type": "code",
   "execution_count": 8,
   "id": "73dc9459-a2d8-4269-a278-391e0408b00e",
   "metadata": {},
   "outputs": [
    {
     "data": {
      "text/html": [
       "<div>\n",
       "<style scoped>\n",
       "    .dataframe tbody tr th:only-of-type {\n",
       "        vertical-align: middle;\n",
       "    }\n",
       "\n",
       "    .dataframe tbody tr th {\n",
       "        vertical-align: top;\n",
       "    }\n",
       "\n",
       "    .dataframe thead th {\n",
       "        text-align: right;\n",
       "    }\n",
       "</style>\n",
       "<table border=\"1\" class=\"dataframe\">\n",
       "  <thead>\n",
       "    <tr style=\"text-align: right;\">\n",
       "      <th></th>\n",
       "      <th>job_description_text</th>\n",
       "      <th>seniority_level</th>\n",
       "    </tr>\n",
       "  </thead>\n",
       "  <tbody>\n",
       "    <tr>\n",
       "      <th>0</th>\n",
       "      <td>OverviewUpper Hand is embarking on an exciting...</td>\n",
       "      <td>Internship</td>\n",
       "    </tr>\n",
       "    <tr>\n",
       "      <th>1</th>\n",
       "      <td>Company DescriptionThe Ikigai platform unlocks...</td>\n",
       "      <td>Mid-Senior level</td>\n",
       "    </tr>\n",
       "    <tr>\n",
       "      <th>2</th>\n",
       "      <td>Our CompanyChanging the world through digital ...</td>\n",
       "      <td>Entry level</td>\n",
       "    </tr>\n",
       "    <tr>\n",
       "      <th>3</th>\n",
       "      <td>Waymo is an autonomous driving technology comp...</td>\n",
       "      <td>Entry level</td>\n",
       "    </tr>\n",
       "    <tr>\n",
       "      <th>4</th>\n",
       "      <td>Job Title: Machine Learning EngineerLocation: ...</td>\n",
       "      <td>Mid-Senior level</td>\n",
       "    </tr>\n",
       "  </tbody>\n",
       "</table>\n",
       "</div>"
      ],
      "text/plain": [
       "                                job_description_text   seniority_level\n",
       "0  OverviewUpper Hand is embarking on an exciting...        Internship\n",
       "1  Company DescriptionThe Ikigai platform unlocks...  Mid-Senior level\n",
       "2  Our CompanyChanging the world through digital ...       Entry level\n",
       "3  Waymo is an autonomous driving technology comp...       Entry level\n",
       "4  Job Title: Machine Learning EngineerLocation: ...  Mid-Senior level"
      ]
     },
     "execution_count": 8,
     "metadata": {},
     "output_type": "execute_result"
    }
   ],
   "source": [
    "df[['job_description_text', 'seniority_level']].head()"
   ]
  },
  {
   "cell_type": "code",
   "execution_count": 9,
   "id": "30d10bd1-17fb-46bb-beb4-404a1c2c1666",
   "metadata": {},
   "outputs": [],
   "source": [
    "import spacy\n",
    "nlp = spacy.load(\"en_core_web_sm\")\n",
    "\n",
    "def preprocess(text):\n",
    "    if not isinstance(text, str):\n",
    "        return \"\"\n",
    "    doc = nlp(text.lower())\n",
    "    return ' '.join([token.lemma_ for token in doc if token.is_alpha and not token.is_stop])\n",
    "\n",
    "df['cleaned_description'] = df['job_description_text'].apply(preprocess)\n"
   ]
  },
  {
   "cell_type": "code",
   "execution_count": 10,
   "id": "50306980-66fe-4ed2-814d-7e8e5237a53f",
   "metadata": {},
   "outputs": [],
   "source": [
    "from sklearn.feature_extraction.text import TfidfVectorizer\n",
    "vectorizer = TfidfVectorizer(max_features=1000)\n",
    "X = vectorizer.fit_transform(df['cleaned_description'])\n",
    "\n",
    "y = df['seniority_level']"
   ]
  },
  {
   "cell_type": "code",
   "execution_count": 11,
   "id": "09722d34-dacd-45e4-8ac4-3fb2887c0c6e",
   "metadata": {},
   "outputs": [],
   "source": [
    "# Combine features and labels into a single DataFrame temporarily\n",
    "combined = pd.DataFrame(X.toarray())  # Convert sparse matrix to DataFrame\n",
    "combined['seniority_level'] = y.values\n",
    "\n",
    "# Drop rows with any NaNs\n",
    "combined = combined.dropna()\n",
    "\n",
    "# Split features and target again\n",
    "X_clean = combined.drop('seniority_level', axis=1)\n",
    "y_clean = combined['seniority_level']\n"
   ]
  },
  {
   "cell_type": "code",
   "execution_count": 12,
   "id": "41bf2f1b-5d98-4daa-884b-9cafe07d7c36",
   "metadata": {},
   "outputs": [
    {
     "name": "stdout",
     "output_type": "stream",
     "text": [
      "                  precision    recall  f1-score   support\n",
      "\n",
      "       Associate       0.50      0.12      0.20         8\n",
      "        Director       1.00      1.00      1.00         1\n",
      "     Entry level       0.52      0.57      0.54        54\n",
      "      Internship       1.00      0.60      0.75        20\n",
      "Mid-Senior level       0.58      0.76      0.66        71\n",
      "  Not Applicable       1.00      0.68      0.81        44\n",
      "\n",
      "        accuracy                           0.65       198\n",
      "       macro avg       0.77      0.62      0.66       198\n",
      "    weighted avg       0.70      0.65      0.65       198\n",
      "\n"
     ]
    }
   ],
   "source": [
    "from sklearn.model_selection import train_test_split\n",
    "from sklearn.ensemble import RandomForestClassifier\n",
    "from sklearn.metrics import classification_report\n",
    "\n",
    "X_train, X_test, y_train, y_test = train_test_split(X_clean, y_clean, test_size=0.2, random_state=42)\n",
    "\n",
    "model = RandomForestClassifier()\n",
    "model.fit(X_train, y_train)\n",
    "y_pred = model.predict(X_test)\n",
    "\n",
    "print(classification_report(y_test, y_pred))"
   ]
  },
  {
   "cell_type": "code",
   "execution_count": 13,
   "id": "182036ca-3215-43a8-8cf3-12a733efa1c9",
   "metadata": {},
   "outputs": [],
   "source": [
    "new_job = \"\"\"\n",
    "We are seeking a highly experienced machine learning engineer to lead cross-functional teams,\n",
    "optimize production ML pipelines, and manage junior developers. Must have 5+ years of experience.\n",
    "\"\"\"\n"
   ]
  },
  {
   "cell_type": "code",
   "execution_count": 14,
   "id": "c3356b8c-1848-4137-a2a0-73f3ae5af34b",
   "metadata": {},
   "outputs": [],
   "source": [
    "cleaned = preprocess(new_job)\n"
   ]
  },
  {
   "cell_type": "code",
   "execution_count": 15,
   "id": "f54c4836-d0b7-4e57-a7f9-2d7f15d53299",
   "metadata": {},
   "outputs": [],
   "source": [
    "new_X = vectorizer.transform([cleaned])\n"
   ]
  },
  {
   "cell_type": "code",
   "execution_count": 16,
   "id": "5a8ee69d-f86a-4346-9c86-711fd976a10a",
   "metadata": {},
   "outputs": [
    {
     "name": "stdout",
     "output_type": "stream",
     "text": [
      "Predicted Seniority Level: Mid-Senior level\n"
     ]
    }
   ],
   "source": [
    "predicted_label = model.predict(new_X)\n",
    "print(f\"Predicted Seniority Level: {predicted_label[0]}\")\n"
   ]
  },
  {
   "cell_type": "code",
   "execution_count": 17,
   "id": "4b0a625c-a24c-4088-b4db-7dae84c44fc1",
   "metadata": {},
   "outputs": [
    {
     "data": {
      "image/png": "[encoded data removed]",
      "text/plain": [
       "<Figure size 800x500 with 1 Axes>"
      ]
     },
     "metadata": {},
     "output_type": "display_data"
    }
   ],
   "source": [
    "\n",
    "import matplotlib.pyplot as plt\n",
    "# Convert to Series for easy plotting\n",
    "pred_series = pd.Series(y_pred)\n",
    "\n",
    "# Plot frequency of predicted classes\n",
    "plt.figure(figsize=(8, 5))\n",
    "pred_series.value_counts().plot(kind='bar', color='skyblue')\n",
    "plt.title('Distribution of Predicted Seniority Levels')\n",
    "plt.xlabel('Seniority Level')\n",
    "plt.ylabel('Count')\n",
    "plt.xticks(rotation=45)\n",
    "plt.show()\n"
   ]
  },
  {
   "cell_type": "code",
   "execution_count": null,
   "id": "bc4b873c-9a09-44f9-836b-e2d273d13f69",
   "metadata": {},
   "outputs": [],
   "source": []
  }
 ],
 "metadata": {
  "kernelspec": {
   "display_name": "Python 3 (ipykernel)",
   "language": "python",
   "name": "python3"
  },
  "language_info": {
   "codemirror_mode": {
    "name": "ipython",
    "version": 3
   },
   "file_extension": ".py",
   "mimetype": "text/x-python",
   "name": "python",
   "nbconvert_exporter": "python",
   "pygments_lexer": "ipython3",
   "version": "3.10.16"
  }
 },
 "nbformat": 4,
 "nbformat_minor": 5
}
